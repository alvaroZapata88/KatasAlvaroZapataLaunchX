{
 "cells": [
  {
   "cell_type": "markdown",
   "metadata": {},
   "source": [
    "# Problema 1 Acercamiento de asteroide"
   ]
  },
  {
   "cell_type": "code",
   "execution_count": 3,
   "metadata": {},
   "outputs": [
    {
     "name": "stdout",
     "output_type": "stream",
     "text": [
      "Esta lejitos, no hay prblema\n"
     ]
    }
   ],
   "source": [
    "velocidadAsteroide = 18\n",
    "if velocidadAsteroide > 25:\n",
    "    print('Posible colisión de asteroide, Alerta máxima.')\n",
    "else:\n",
    "    print('Esta lejitos, no hay problema')"
   ]
  },
  {
   "cell_type": "markdown",
   "metadata": {},
   "source": [
    "# Problema 2 Rayo de luz"
   ]
  },
  {
   "cell_type": "code",
   "execution_count": 6,
   "metadata": {},
   "outputs": [
    {
     "name": "stdout",
     "output_type": "stream",
     "text": [
      "Nada que ver por aqui, bonito dia\n"
     ]
    }
   ],
   "source": [
    "velocidadAsteroide2 = 19\n",
    "if velocidadAsteroide2 > 20:\n",
    "    print('Hay luces para ver en el cielo')\n",
    "elif velocidadAsteroide2 == 20:\n",
    "    print('Hay luces para ver en el cielo2')\n",
    "else:\n",
    "    print('Nada que ver por aqui, bonito dia')"
   ]
  },
  {
   "cell_type": "markdown",
   "metadata": {},
   "source": [
    "#Problema 3 Tamaño y velocidad"
   ]
  },
  {
   "cell_type": "code",
   "execution_count": 11,
   "metadata": {},
   "outputs": [
    {
     "name": "stdout",
     "output_type": "stream",
     "text": [
      "Todo bien :*\n"
     ]
    }
   ],
   "source": [
    "velocidadAste = 12\n",
    "tamanoAste = 26\n",
    "if velocidadAste > 25 and tamanoAste > 25:\n",
    "    print('¡Alerta máxima, Un asteroide muy peligroso viene hacia la Tierra corran!')\n",
    "elif velocidadAste >= 20:\n",
    "    print('Hay una luces que ver en el cielo!')\n",
    "elif tamanoAste < 25:\n",
    "    print('Todo bien :P')\n",
    "else:\n",
    "    print('Todo bien :*')"
   ]
  }
 ],
 "metadata": {
  "interpreter": {
   "hash": "e842593f1d48c925c1ce772673fa00979e627788ebaa7e88a47e5fee685fc2ff"
  },
  "kernelspec": {
   "display_name": "Python 3.10.2 64-bit",
   "language": "python",
   "name": "python3"
  },
  "language_info": {
   "codemirror_mode": {
    "name": "ipython",
    "version": 3
   },
   "file_extension": ".py",
   "mimetype": "text/x-python",
   "name": "python",
   "nbconvert_exporter": "python",
   "pygments_lexer": "ipython3",
   "version": "3.10.2"
  },
  "orig_nbformat": 4
 },
 "nbformat": 4,
 "nbformat_minor": 2
}
